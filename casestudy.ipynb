{
  "cells": [
    {
      "cell_type": "markdown",
      "metadata": {
        "id": "view-in-github",
        "colab_type": "text"
      },
      "source": [
        "<a href=\"https://colab.research.google.com/github/Ajairajv/casestudy_ai/blob/main/casestudy.ipynb\" target=\"_parent\"><img src=\"https://colab.research.google.com/assets/colab-badge.svg\" alt=\"Open In Colab\"/></a>"
      ]
    },
    {
      "cell_type": "code",
      "execution_count": 1,
      "metadata": {
        "colab": {
          "base_uri": "https://localhost:8080/"
        },
        "id": "yuOfJifIyULC",
        "outputId": "2bffe7a2-0cb4-4f1c-c218-8b4a51324e99"
      },
      "outputs": [
        {
          "output_type": "stream",
          "name": "stdout",
          "text": [
            "Collecting git+https://www.github.com/keras-team/keras-contrib.git\n",
            "  Cloning https://www.github.com/keras-team/keras-contrib.git to /tmp/pip-req-build-furczw99\n",
            "  Running command git clone --filter=blob:none --quiet https://www.github.com/keras-team/keras-contrib.git /tmp/pip-req-build-furczw99\n",
            "  warning: redirecting to https://github.com/keras-team/keras-contrib.git/\n",
            "  Resolved https://www.github.com/keras-team/keras-contrib.git to commit 3fc5ef709e061416f4bc8a92ca3750c824b5d2b0\n",
            "  Preparing metadata (setup.py) ... \u001b[?25l\u001b[?25hdone\n",
            "Requirement already satisfied: keras in /usr/local/lib/python3.10/dist-packages (from keras-contrib==2.0.8) (2.13.1)\n"
          ]
        }
      ],
      "source": [
        "!pip install git+https://www.github.com/keras-team/keras-contrib.git"
      ]
    },
    {
      "cell_type": "code",
      "source": [
        "t"
      ],
      "metadata": {
        "id": "z_3nhq2WLj9G"
      },
      "execution_count": null,
      "outputs": []
    },
    {
      "cell_type": "code",
      "execution_count": 2,
      "metadata": {
        "id": "JIVkTWomyKnv"
      },
      "outputs": [],
      "source": [
        "# example of training a cyclegan on the underwaterimage dataset\n",
        "from random import random\n",
        "from numpy import load\n",
        "from numpy import zeros\n",
        "from numpy import ones\n",
        "from numpy import asarray\n",
        "from numpy.random import randint\n",
        "from keras.optimizers import Adam\n",
        "from keras.initializers import RandomNormal\n",
        "from keras.models import Model\n",
        "from tensorflow.keras.layers import Input\n",
        "from keras.layers import Conv2D\n",
        "from keras.layers import Conv2DTranspose\n",
        "from keras.layers import LeakyReLU\n",
        "from keras.layers import Activation\n",
        "from keras.layers import Concatenate\n",
        "from keras_contrib.layers.normalization.instancenormalization import InstanceNormalization\n",
        "from matplotlib import pyplot"
      ]
    },
    {
      "cell_type": "code",
      "execution_count": 3,
      "metadata": {
        "id": "yFuXLOpRyLpW"
      },
      "outputs": [],
      "source": [
        "\n",
        "# define the discriminator model\n",
        "def define_discriminator(image_shape):\n",
        "\t# weight initialization\n",
        "\tinit = RandomNormal(stddev=0.02)\n",
        "\t# source image input\n",
        "\tin_image = Input(shape=image_shape)\n",
        "\t# C64\n",
        "\td = Conv2D(64, (4,4), strides=(2,2), padding='same', kernel_initializer=init)(in_image)\n",
        "\td = LeakyReLU(alpha=0.2)(d)\n",
        "\t# C128\n",
        "\td = Conv2D(128, (4,4), strides=(2,2), padding='same', kernel_initializer=init)(d)\n",
        "\td = InstanceNormalization(axis=-1)(d)\n",
        "\td = LeakyReLU(alpha=0.2)(d)\n",
        "\t# C256\n",
        "\td = Conv2D(256, (4,4), strides=(2,2), padding='same', kernel_initializer=init)(d)\n",
        "\td = InstanceNormalization(axis=-1)(d)\n",
        "\td = LeakyReLU(alpha=0.2)(d)\n",
        "\t# C512\n",
        "\td = Conv2D(512, (4,4), strides=(2,2), padding='same', kernel_initializer=init)(d)\n",
        "\td = InstanceNormalization(axis=-1)(d)\n",
        "\td = LeakyReLU(alpha=0.2)(d)\n",
        "\t# second last output layer\n",
        "\td = Conv2D(512, (4,4), padding='same', kernel_initializer=init)(d)\n",
        "\td = InstanceNormalization(axis=-1)(d)\n",
        "\td = LeakyReLU(alpha=0.2)(d)\n",
        "\t# patch output\n",
        "\tpatch_out = Conv2D(1, (4,4), padding='same', kernel_initializer=init)(d)\n",
        "\t# define model\n",
        "\tmodel = Model(in_image, patch_out)\n",
        "\t# compile model\n",
        "\tmodel.compile(loss='mse', optimizer=Adam(lr=0.0002, beta_1=0.5), loss_weights=[0.5])\n",
        "\treturn model"
      ]
    },
    {
      "cell_type": "code",
      "execution_count": 4,
      "metadata": {
        "id": "ottiCqZFybl1"
      },
      "outputs": [],
      "source": [
        "# generator a resnet block\n",
        "def resnet_block(n_filters, input_layer):\n",
        "\t# weight initialization\n",
        "\tinit = RandomNormal(stddev=0.02)\n",
        "\t# first layer convolutional layer\n",
        "\tg = Conv2D(n_filters, (3,3), padding='same', kernel_initializer=init)(input_layer)\n",
        "\tg = InstanceNormalization(axis=-1)(g)\n",
        "\tg = Activation('relu')(g)\n",
        "\t# second convolutional layer\n",
        "\tg = Conv2D(n_filters, (3,3), padding='same', kernel_initializer=init)(g)\n",
        "\tg = InstanceNormalization(axis=-1)(g)\n",
        "\t# concatenate merge channel-wise with input layer\n",
        "\tg = Concatenate()([g, input_layer])\n",
        "\treturn g\n"
      ]
    },
    {
      "cell_type": "code",
      "execution_count": 5,
      "metadata": {
        "id": "6xHIKOrAydOa"
      },
      "outputs": [],
      "source": [
        "# define the standalone generator model\n",
        "def define_generator(image_shape, n_resnet=9):\n",
        "\t# weight initialization\n",
        "\tinit = RandomNormal(stddev=0.02)\n",
        "\t# image input\n",
        "\tin_image = Input(shape=image_shape)\n",
        "\t# c7s1-64\n",
        "\tg = Conv2D(64, (7,7), padding='same', kernel_initializer=init)(in_image)\n",
        "\tg = InstanceNormalization(axis=-1)(g)\n",
        "\tg = Activation('relu')(g)\n",
        "\t# d128\n",
        "\tg = Conv2D(128, (3,3), strides=(2,2), padding='same', kernel_initializer=init)(g)\n",
        "\tg = InstanceNormalization(axis=-1)(g)\n",
        "\tg = Activation('relu')(g)\n",
        "\t# d256\n",
        "\tg = Conv2D(256, (3,3), strides=(2,2), padding='same', kernel_initializer=init)(g)\n",
        "\tg = InstanceNormalization(axis=-1)(g)\n",
        "\tg = Activation('relu')(g)\n",
        "\t# R256\n",
        "\tfor _ in range(n_resnet):\n",
        "\t\tg = resnet_block(256, g)\n",
        "\t# u128\n",
        "\tg = Conv2DTranspose(128, (3,3), strides=(2,2), padding='same', kernel_initializer=init)(g)\n",
        "\tg = InstanceNormalization(axis=-1)(g)\n",
        "\tg = Activation('relu')(g)\n",
        "\t# u64\n",
        "\tg = Conv2DTranspose(64, (3,3), strides=(2,2), padding='same', kernel_initializer=init)(g)\n",
        "\tg = InstanceNormalization(axis=-1)(g)\n",
        "\tg = Activation('relu')(g)\n",
        "\t# c7s1-3\n",
        "\tg = Conv2D(3, (7,7), padding='same', kernel_initializer=init)(g)\n",
        "\tg = InstanceNormalization(axis=-1)(g)\n",
        "\tout_image = Activation('tanh')(g)\n",
        "\t# define model\n",
        "\tmodel = Model(in_image, out_image)\n",
        "\treturn model"
      ]
    },
    {
      "cell_type": "code",
      "execution_count": 6,
      "metadata": {
        "id": "vHB3Q-GsyekA"
      },
      "outputs": [],
      "source": [
        "# define a composite model for updating generators by adversarial and cycle loss\n",
        "def define_composite_model(g_model_1, d_model, g_model_2, image_shape):\n",
        "\t# ensure the model we're updating is trainable\n",
        "\tg_model_1.trainable = True\n",
        "\t# mark discriminator as not trainable\n",
        "\td_model.trainable = False\n",
        "\t# mark other generator model as not trainable\n",
        "\tg_model_2.trainable = False\n",
        "\t# discriminator element\n",
        "\tinput_gen = Input(shape=image_shape)\n",
        "\tgen1_out = g_model_1(input_gen)\n",
        "\toutput_d = d_model(gen1_out)\n",
        "\t# identity element\n",
        "\tinput_id = Input(shape=image_shape)\n",
        "\toutput_id = g_model_1(input_id)\n",
        "\t# forward cycle\n",
        "\toutput_f = g_model_2(gen1_out)\n",
        "\t# backward cycle\n",
        "\tgen2_out = g_model_2(input_id)\n",
        "\toutput_b = g_model_1(gen2_out)\n",
        "\t# define model graph\n",
        "\tmodel = Model([input_gen, input_id], [output_d, output_id, output_f, output_b])\n",
        "\t# define optimization algorithm configuration\n",
        "\topt = Adam(lr=0.0002, beta_1=0.5)\n",
        "\t# compile model with weighting of least squares loss and L1 loss\n",
        "\tmodel.compile(loss=['mse', 'mae', 'mae', 'mae'], loss_weights=[1, 5, 10, 10], optimizer=opt)\n",
        "\treturn model"
      ]
    },
    {
      "cell_type": "code",
      "execution_count": 7,
      "metadata": {
        "id": "uUTXYoNdygBN"
      },
      "outputs": [],
      "source": [
        "# load and prepare training images\n",
        "def load_real_samples(filename):\n",
        "\t# load the dataset\n",
        "\tdata = load(filename)\n",
        "\t# unpack arrays\n",
        "\tX1, X2 = data['arr_0'], data['arr_1']\n",
        "\t# scale from [0,255] to [-1,1]\n",
        "\tX1 = (X1 - 127.5) / 127.5\n",
        "\tX2 = (X2 - 127.5) / 127.5\n",
        "\treturn [X1, X2]"
      ]
    },
    {
      "cell_type": "code",
      "execution_count": 7,
      "metadata": {
        "id": "xbRx97q3yiR-"
      },
      "outputs": [],
      "source": []
    },
    {
      "cell_type": "code",
      "execution_count": 8,
      "metadata": {
        "colab": {
          "base_uri": "https://localhost:8080/"
        },
        "id": "8Etk-7cuyjYQ",
        "outputId": "c47e22fb-8b24-4b15-c40d-43e5647868d1"
      },
      "outputs": [
        {
          "output_type": "stream",
          "name": "stdout",
          "text": [
            "Drive already mounted at /content/drive; to attempt to forcibly remount, call drive.mount(\"/content/drive\", force_remount=True).\n"
          ]
        }
      ],
      "source": [
        "from google.colab import drive\n",
        "drive.mount('/content/drive')"
      ]
    },
    {
      "cell_type": "code",
      "execution_count": 9,
      "metadata": {
        "id": "4etZFi2fykl8"
      },
      "outputs": [],
      "source": [
        "# select a batch of random samples, returns images and target\n",
        "def generate_real_samples(dataset, n_samples, patch_shape):\n",
        "\t# choose random instances\n",
        "\tix = randint(0, dataset.shape[0], n_samples)\n",
        "\t# retrieve selected images\n",
        "\tX = dataset[ix]\n",
        "\t# generate 'real' class labels (1)\n",
        "\ty = ones((n_samples, patch_shape, patch_shape, 1))\n",
        "\treturn X, y"
      ]
    },
    {
      "cell_type": "code",
      "execution_count": 10,
      "metadata": {
        "id": "cAIt4Ma8yq1e"
      },
      "outputs": [],
      "source": [
        "# generate a batch of images, returns images and targets\n",
        "def generate_fake_samples(g_model, dataset, patch_shape):\n",
        "\t# generate fake instance\n",
        "\tX = g_model.predict(dataset)\n",
        "\t# create 'fake' class labels (0)\n",
        "\ty = zeros((len(X), patch_shape, patch_shape, 1))\n",
        "\treturn X, y\n",
        "\n",
        "# save the generator models to file\n",
        "def save_models(step, g_model_AtoB, g_model_BtoA):\n",
        "\t# save the first generator model\n",
        "\tfilename1 = '/content/drive/MyDrive/casestudyai/a_to_b.h5' % (step+1)\n",
        "\tg_model_AtoB.save(filename1)\n",
        "\t# save the second generator model\n",
        "\tfilename2 = '/content/drive/MyDrive/casestudyai/b_to_a.h5' % (step+1)\n",
        "\tg_model_BtoA.save(filename2)\n",
        "\tprint('>Saved: %s and %s' % (filename1, filename2))"
      ]
    },
    {
      "cell_type": "code",
      "execution_count": 11,
      "metadata": {
        "id": "Gsw4a4xoysPt"
      },
      "outputs": [],
      "source": [
        "# generate samples and save as a plot and save the model\n",
        "def summarize_performance(step, g_model, trainX, name, n_samples=5):\n",
        "\t# select a sample of input images\n",
        "\tX_in, _ = generate_real_samples(trainX, n_samples, 0)\n",
        "\t# generate translated images\n",
        "\tX_out, _ = generate_fake_samples(g_model, X_in, 0)\n",
        "\t# scale all pixels from [-1,1] to [0,1]\n",
        "\tX_in = (X_in + 1) / 2.0\n",
        "\tX_out = (X_out + 1) / 2.0\n",
        "\t# plot real images\n",
        "\tfor i in range(n_samples):\n",
        "\t\tpyplot.subplot(2, n_samples, 1 + i)\n",
        "\t\tpyplot.axis('off')\n",
        "\t\tpyplot.imshow(X_in[i])\n",
        "\t# plot translated image\n",
        "\tfor i in range(n_samples):\n",
        "\t\tpyplot.subplot(2, n_samples, 1 + n_samples + i)\n",
        "\t\tpyplot.axis('off')\n",
        "\t\tpyplot.imshow(X_out[i])\n",
        "\t# save plot to file\n",
        "\tfilename1 = '%s_generated_plot_%06d.png' % (name, (step+1))\n",
        "\tpyplot.savefig(filename1)\n",
        "\tpyplot.close()"
      ]
    },
    {
      "cell_type": "code",
      "execution_count": 12,
      "metadata": {
        "id": "wuw_mpkxytp0"
      },
      "outputs": [],
      "source": [
        "# update image pool for fake images\n",
        "def update_image_pool(pool, images, max_size=50):\n",
        "\tselected = list()\n",
        "\tfor image in images:\n",
        "\t\tif len(pool) < max_size:\n",
        "\t\t\t# stock the pool\n",
        "\t\t\tpool.append(image)\n",
        "\t\t\tselected.append(image)\n",
        "\t\telif random() < 0.5:\n",
        "\t\t\t# use image, but don't add it to the pool\n",
        "\t\t\tselected.append(image)\n",
        "\t\telse:\n",
        "\t\t\t# replace an existing image and use replaced image\n",
        "\t\t\tix = randint(0, len(pool))\n",
        "\t\t\tselected.append(pool[ix])\n",
        "\t\t\tpool[ix] = image\n",
        "\treturn asarray(selected)"
      ]
    },
    {
      "cell_type": "code",
      "execution_count": 13,
      "metadata": {
        "id": "nrf-cKFOyvJh"
      },
      "outputs": [],
      "source": [
        "# train cyclegan models\n",
        "import matplotlib.pyplot as plt\n",
        "def train(d_model_A, d_model_B, g_model_AtoB, g_model_BtoA, c_model_AtoB, c_model_BtoA, dataset):\n",
        "\t# define properties of the training run\n",
        "\tn_epochs, n_batch, = 10, 1\n",
        "\t# determine the output square shape of the discriminator\n",
        "\tn_patch = d_model_A.output_shape[1]\n",
        "\t# unpack dataset\n",
        "\ttrainA, trainB = dataset\n",
        "\t# prepare image pool for fakes\n",
        "\tpoolA, poolB = list(), list()\n",
        "\t# calculate the number of batches per training epoch\n",
        "\tbat_per_epo = int(len(trainA) / n_batch)\n",
        "\t# calculate the number of training iterations\n",
        "\tn_steps = bat_per_epo * n_epochs\n",
        "\n",
        "\tdA_loss1_list = []\n",
        "\tdA_loss2_list = []\n",
        "\tdB_loss1_list = []\n",
        "\tdB_loss2_list = []\n",
        "\tg_loss1_list = []\n",
        "\tg_loss2_list = []\n",
        "\n",
        "\t# manually enumerate epochs\n",
        "\tfor i in range(n_steps):\n",
        "\t\t# select a batch of real samples\n",
        "\t\tX_realA, y_realA = generate_real_samples(trainA, n_batch, n_patch)\n",
        "\t\tX_realB, y_realB = generate_real_samples(trainB, n_batch, n_patch)\n",
        "\t\t# generate a batch of fake samples\n",
        "\t\tX_fakeA, y_fakeA = generate_fake_samples(g_model_BtoA, X_realB, n_patch)\n",
        "\t\tX_fakeB, y_fakeB = generate_fake_samples(g_model_AtoB, X_realA, n_patch)\n",
        "\t\t# update fakes from pool\n",
        "\t\tX_fakeA = update_image_pool(poolA, X_fakeA)\n",
        "\t\tX_fakeB = update_image_pool(poolB, X_fakeB)\n",
        "\t\t# update generator B->A via adversarial and cycle loss\n",
        "\t\tg_loss2, _, _, _, _  = c_model_BtoA.train_on_batch([X_realB, X_realA], [y_realA, X_realA, X_realB, X_realA])\n",
        "\t\t# update discriminator for A -> [real/fake]\n",
        "\t\tdA_loss1 = d_model_A.train_on_batch(X_realA, y_realA)\n",
        "\t\tdA_loss2 = d_model_A.train_on_batch(X_fakeA, y_fakeA)\n",
        "\t\t# update generator A->B via adversarial and cycle loss\n",
        "\t\tg_loss1, _, _, _, _ = c_model_AtoB.train_on_batch([X_realA, X_realB], [y_realB, X_realB, X_realA, X_realB])\n",
        "\t\t# update discriminator for B -> [real/fake]\n",
        "\t\tdB_loss1 = d_model_B.train_on_batch(X_realB, y_realB)\n",
        "\t\tdB_loss2 = d_model_B.train_on_batch(X_fakeB, y_fakeB)\n",
        "\t\t# summarize performance\n",
        "\t\tprint('>%d, dA[%.3f,%.3f] dB[%.3f,%.3f] g[%.3f,%.3f]' % (i+1, dA_loss1,dA_loss2, dB_loss1,dB_loss2, g_loss1,g_loss2))\n",
        "\n",
        "\t\tdA_loss1_list.append(dA_loss1)\n",
        "\t\tdA_loss2_list.append(dA_loss2)\n",
        "\t\tdB_loss1_list.append(dB_loss1)\n",
        "\t\tdB_loss2_list.append(dB_loss2)\n",
        "\t\tg_loss1_list.append(g_loss1)\n",
        "\t\tg_loss2_list.append(g_loss2)\n",
        "\n",
        "\t\t# evaluate the model performance every so often\n",
        "\t\tif (i+1) % (bat_per_epo * 1) == 0:\n",
        "\t\t\t# plot A->B translation\n",
        "\t\t\tsummarize_performance(i, g_model_AtoB, trainA, 'AtoB')\n",
        "\t\t\t# plot B->A translation\n",
        "\t\t\tsummarize_performance(i, g_model_BtoA, trainB, 'BtoA')\n",
        "\t\t\tplt.plot(range(i+1), dA_loss1_list, label = \"dA_loss1\")\n",
        "\t\t\tplt.plot(range(i+1), dA_loss2_list, label = \"dA_loss2\")\n",
        "\t\t\tplt.plot(range(i+1), dB_loss1_list, label = \"dB_loss1\")\n",
        "\t\t\tplt.plot(range(i+1), dB_loss2_list, label = \"dB_loss2\")\n",
        "\t\t\tplt.plot(range(i+1), g_loss1_list, label = \"g_loss1\")\n",
        "\t\t\tplt.plot(range(i+1), g_loss2_list, label = \"g_loss2\")\n",
        "\t\t\tplt.xlabel('epochs')\n",
        "\t\t\t# naming the y axis\n",
        "\t\t\tplt.ylabel('Loss')\n",
        "\t\t\t# giving a title to my graph\n",
        "\t\t\tplt.title('Loss graphs of dA, dB, g')\n",
        "\n",
        "\t\t\t# show a legend on the plot\n",
        "\t\t\tplt.legend()\n",
        "\n",
        "\t\t\t# function to show the plot\n",
        "\t\t\tplt.show()\n",
        "\n",
        "\t\tif (i+1) % (bat_per_epo * 5) == 0:\n",
        "\t\t\t# save the models\n",
        "\t\t\tsave_models(i, g_model_AtoB, g_model_BtoA)\n"
      ]
    },
    {
      "cell_type": "code",
      "source": [
        "!pip install keras-preprocessing\n"
      ],
      "metadata": {
        "colab": {
          "base_uri": "https://localhost:8080/"
        },
        "id": "pZLbRCW7oqEb",
        "outputId": "98b3fa0c-cb1b-4051-9cf8-275c7a7bcb15"
      },
      "execution_count": 14,
      "outputs": [
        {
          "output_type": "stream",
          "name": "stdout",
          "text": [
            "Requirement already satisfied: keras-preprocessing in /usr/local/lib/python3.10/dist-packages (1.1.2)\n",
            "Requirement already satisfied: numpy>=1.9.1 in /usr/local/lib/python3.10/dist-packages (from keras-preprocessing) (1.23.5)\n",
            "Requirement already satisfied: six>=1.9.0 in /usr/local/lib/python3.10/dist-packages (from keras-preprocessing) (1.16.0)\n"
          ]
        }
      ]
    },
    {
      "cell_type": "code",
      "execution_count": 15,
      "metadata": {
        "colab": {
          "base_uri": "https://localhost:8080/"
        },
        "id": "nBAWqy7_yw7W",
        "outputId": "43f72891-cbf6-4cd5-b52c-1a6937274fd2"
      },
      "outputs": [
        {
          "output_type": "stream",
          "name": "stdout",
          "text": [
            "Loaded dataA:  (161, 256, 256, 3)\n",
            "Loaded dataB:  (140, 256, 256, 3)\n",
            "Saved dataset:  /content/drive/MyDrive/casestudyai/Dataset/underwater_256.npz\n"
          ]
        }
      ],
      "source": [
        "# example of preparing the underwaterimage dataset\n",
        "from os import listdir\n",
        "from numpy import asarray\n",
        "from numpy import vstack\n",
        "from keras_preprocessing.image import img_to_array\n",
        "from keras_preprocessing.image import load_img\n",
        "from numpy import savez_compressed\n",
        "\n",
        "# load all images in a directory into memory\n",
        "def load_images(path, size=(256,256)):\n",
        "\tdata_list = list()\n",
        "\t# enumerate filenames in directory, assume all are images\n",
        "\tfor filename in listdir(path):\n",
        "\t\t# load and resize the image\n",
        "\t\tpixels = load_img(path + filename, target_size=size)\n",
        "\t\t# convert to numpy array\n",
        "\t\tpixels = img_to_array(pixels)\n",
        "\t\t# store\n",
        "\t\tdata_list.append(pixels)\n",
        "\treturn asarray(data_list)\n",
        "\n",
        "# dataset path\n",
        "path = '/content/drive/MyDrive/casestudyai/Dataset/'\n",
        "# load dataset A\n",
        "dataA1 = load_images(path + 'TrainA/')\n",
        "dataAB = load_images(path + 'TestA/')\n",
        "dataA = vstack((dataA1, dataAB))\n",
        "print('Loaded dataA: ', dataA.shape)\n",
        "# load dataset B\n",
        "dataB1 = load_images(path + 'TrainB/')\n",
        "dataB2 = load_images(path + 'TestB/')\n",
        "dataB = vstack((dataB1, dataB2))\n",
        "print('Loaded dataB: ', dataB.shape)\n",
        "# save as compressed numpy array\n",
        "filename = '/content/drive/MyDrive/casestudyai/Dataset/underwater_256.npz'\n",
        "savez_compressed(filename, dataA, dataB)\n",
        "print('Saved dataset: ', filename)"
      ]
    },
    {
      "cell_type": "code",
      "source": [
        "tf.test.gpu_device_name()"
      ],
      "metadata": {
        "id": "_q5JW4Swqlxh"
      },
      "execution_count": 15,
      "outputs": []
    },
    {
      "cell_type": "code",
      "execution_count": null,
      "metadata": {
        "colab": {
          "base_uri": "https://localhost:8080/"
        },
        "id": "WfHTd7y2y8GX",
        "outputId": "e8665562-867e-4cdd-cd5c-66d2d53857ee"
      },
      "outputs": [
        {
          "output_type": "stream",
          "name": "stdout",
          "text": [
            "Loaded (161, 256, 256, 3) (140, 256, 256, 3)\n"
          ]
        },
        {
          "output_type": "stream",
          "name": "stderr",
          "text": [
            "/usr/local/lib/python3.10/dist-packages/keras/src/initializers/initializers.py:120: UserWarning: The initializer RandomNormal is unseeded and being called multiple times, which will return identical values each time (even if the initializer is unseeded). Please update your code to provide a seed to the initializer, or avoid using the same initializer instance more than once.\n",
            "  warnings.warn(\n",
            "WARNING:absl:`lr` is deprecated in Keras optimizer, please use `learning_rate` or use the legacy optimizer, e.g.,tf.keras.optimizers.legacy.Adam.\n",
            "WARNING:absl:`lr` is deprecated in Keras optimizer, please use `learning_rate` or use the legacy optimizer, e.g.,tf.keras.optimizers.legacy.Adam.\n",
            "WARNING:absl:`lr` is deprecated in Keras optimizer, please use `learning_rate` or use the legacy optimizer, e.g.,tf.keras.optimizers.legacy.Adam.\n",
            "WARNING:absl:`lr` is deprecated in Keras optimizer, please use `learning_rate` or use the legacy optimizer, e.g.,tf.keras.optimizers.legacy.Adam.\n"
          ]
        },
        {
          "output_type": "stream",
          "name": "stdout",
          "text": [
            "1/1 [==============================] - 11s 11s/step\n",
            "1/1 [==============================] - 9s 9s/step\n",
            ">1, dA[2.430,7.646] dB[1.552,5.594] g[18.583,21.272]\n",
            "1/1 [==============================] - 5s 5s/step\n",
            "1/1 [==============================] - 8s 8s/step\n",
            ">2, dA[14.110,18.026] dB[31.285,42.396] g[55.336,25.584]\n",
            "1/1 [==============================] - 5s 5s/step\n",
            "1/1 [==============================] - 7s 7s/step\n",
            ">3, dA[7.650,28.283] dB[33.438,7.768] g[50.847,64.903]\n",
            "1/1 [==============================] - 5s 5s/step\n",
            "1/1 [==============================] - 5s 5s/step\n",
            ">4, dA[5.186,4.428] dB[3.376,2.643] g[22.798,38.178]\n",
            "1/1 [==============================] - 5s 5s/step\n",
            "1/1 [==============================] - 5s 5s/step\n",
            ">5, dA[2.985,2.870] dB[1.565,0.517] g[15.912,24.892]\n",
            "1/1 [==============================] - 5s 5s/step\n",
            "1/1 [==============================] - 5s 5s/step\n",
            ">6, dA[4.069,1.266] dB[0.596,0.365] g[13.935,20.946]\n",
            "1/1 [==============================] - 5s 5s/step\n",
            "1/1 [==============================] - 7s 7s/step\n",
            ">7, dA[1.013,0.965] dB[0.189,0.506] g[16.451,18.321]\n",
            "1/1 [==============================] - 7s 7s/step\n",
            "1/1 [==============================] - 6s 6s/step\n",
            ">8, dA[0.494,0.707] dB[0.345,0.167] g[14.471,14.282]\n",
            "1/1 [==============================] - 5s 5s/step\n",
            "1/1 [==============================] - 7s 7s/step\n",
            ">9, dA[0.365,0.276] dB[0.276,0.219] g[14.526,14.663]\n",
            "1/1 [==============================] - 5s 5s/step\n",
            "1/1 [==============================] - 6s 6s/step\n",
            ">10, dA[0.282,0.325] dB[0.204,0.223] g[13.348,14.235]\n",
            "1/1 [==============================] - 5s 5s/step\n",
            "1/1 [==============================] - 5s 5s/step\n",
            ">11, dA[0.401,0.411] dB[0.263,0.174] g[12.627,12.968]\n",
            "1/1 [==============================] - 5s 5s/step\n",
            "1/1 [==============================] - 7s 7s/step\n",
            ">12, dA[0.286,0.348] dB[0.220,0.271] g[11.781,12.582]\n",
            "1/1 [==============================] - 6s 6s/step\n",
            "1/1 [==============================] - 7s 7s/step\n",
            ">13, dA[0.244,0.266] dB[0.208,0.174] g[11.090,11.386]\n",
            "1/1 [==============================] - 7s 7s/step\n",
            "1/1 [==============================] - 5s 5s/step\n"
          ]
        }
      ],
      "source": [
        "# load image data\n",
        "dataset = load_real_samples('/content/drive/MyDrive/casestudyai/Dataset/underwater_256.npz')\n",
        "print('Loaded', dataset[0].shape, dataset[1].shape)\n",
        "# define input shape based on the loaded dataset\n",
        "image_shape = dataset[0].shape[1:]\n",
        "# generator: A -> B\n",
        "g_model_AtoB = define_generator(image_shape)\n",
        "# generator: B -> A\n",
        "g_model_BtoA = define_generator(image_shape)\n",
        "# discriminator: A -> [real/fake]\n",
        "d_model_A = define_discriminator(image_shape)\n",
        "# discriminator: B -> [real/fake]\n",
        "d_model_B = define_discriminator(image_shape)\n",
        "c_model_AtoB = define_composite_model(g_model_AtoB, d_model_B, g_model_BtoA, image_shape)\n",
        "# composite: B -> A -> [real/fake, B]\n",
        "c_model_BtoA = define_composite_model(g_model_BtoA, d_model_A, g_model_AtoB, image_shape)\n",
        "# train models\n",
        "train(d_model_A, d_model_B, g_model_AtoB, g_model_BtoA, c_model_AtoB, c_model_BtoA, dataset)"
      ]
    },
    {
      "cell_type": "code",
      "execution_count": null,
      "metadata": {
        "id": "9zkgaC1Uy-Fq"
      },
      "outputs": [],
      "source": [
        "# example of using saved cyclegan models for image translation\n",
        "from keras.models import load_model\n",
        "from numpy import load\n",
        "from numpy import vstack\n",
        "from matplotlib import pyplot\n",
        "from numpy.random import randint\n",
        "from keras_contrib.layers.normalization.instancenormalization import InstanceNormalization\n",
        "\n",
        "# load and prepare training images\n",
        "def load_real_samples(filename):\n",
        "\t# load the dataset\n",
        "\tdata = load(filename)\n",
        "\t# unpack arrays\n",
        "\tX1, X2 = data['arr_0'], data['arr_1']\n",
        "\t# scale from [0,255] to [-1,1]\n",
        "\tX1 = (X1 - 127.5) / 127.5\n",
        "\tX2 = (X2 - 127.5) / 127.5\n",
        "\treturn [X1, X2]\n",
        "\n",
        "# select a random sample of images from the dataset\n",
        "def select_sample(dataset, n_samples):\n",
        "\t# choose random instances\n",
        "\tix = randint(0, dataset.shape[0], n_samples)\n",
        "\t# retrieve selected images\n",
        "\tX = dataset[ix]\n",
        "\treturn X\n",
        "\n",
        "# plot the image, the translation, and the reconstruction\n",
        "def show_plot(imagesX, imagesY1, imagesY2):\n",
        "\timages = vstack((imagesX, imagesY1, imagesY2))\n",
        "\ttitles = ['Real', 'Generated', 'Reconstructed']\n",
        "\t# scale from [-1,1] to [0,1]\n",
        "\timages = (images + 1) / 2.0\n",
        "\t# plot images row by row\n",
        "\tfor i in range(len(images)):\n",
        "\t\t# define subplot\n",
        "\t\tpyplot.subplot(1, len(images), 1 + i)\n",
        "\t\t# turn off axis\n",
        "\t\tpyplot.axis('off')\n",
        "\t\t# plot raw pixel data\n",
        "\t\tpyplot.imshow(images[i])\n",
        "\t\t# title\n",
        "\t\tpyplot.title(titles[i])\n",
        "\tpyplot.show()\n",
        "\n",
        "# load dataset\n",
        "A_data, B_data = load_real_samples('/content/drive/MyDrive/casestudyai/Dataset/underwater_256.npz')\n",
        "print('Loaded', A_data.shape, B_data.shape)\n",
        "# load the models\n",
        "cust = {'InstanceNormalization': InstanceNormalization}\n",
        "model_AtoB = load_model('/content/drive/MyDrive/casestudyai/a_to_b.h5', cust)\n",
        "model_BtoA = load_model('/content/drive/MyDrive/casestudyai/b_to_a.h5', cust)\n",
        "# plot A->B->A\n",
        "A_real = select_sample(A_data, 1)\n",
        "B_generated  = model_AtoB.predict(A_real)\n",
        "A_reconstructed = model_BtoA.predict(B_generated)\n",
        "show_plot(A_real, B_generated, A_reconstructed)\n",
        "# plot B->A->B\n",
        "B_real = select_sample(B_data, 1)\n",
        "A_generated  = model_BtoA.predict(B_real)\n",
        "B_reconstructed = model_AtoB.predict(A_generated)\n",
        "show_plot(B_real, A_generated, B_reconstructed)"
      ]
    }
  ],
  "metadata": {
    "accelerator": "GPU",
    "colab": {
      "provenance": [],
      "gpuType": "T4",
      "include_colab_link": true
    },
    "kernelspec": {
      "display_name": "Python 3",
      "name": "python3"
    },
    "language_info": {
      "name": "python"
    }
  },
  "nbformat": 4,
  "nbformat_minor": 0
}